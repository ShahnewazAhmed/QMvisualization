{
 "cells": [
  {
   "cell_type": "markdown",
   "metadata": {},
   "source": [
    "# Infinite Potential Well"
   ]
  },
  {
   "cell_type": "markdown",
   "metadata": {},
   "source": [
    "Not complete yet."
   ]
  },
  {
   "cell_type": "code",
   "execution_count": 1,
   "metadata": {
    "collapsed": true
   },
   "outputs": [],
   "source": [
    "import numpy as np\n",
    "import matplotlib.pyplot as plt\n",
    "from matplotlib.collections import LineCollection\n",
    "from ipywidgets import interactive\n",
    "from scipy.integrate import simps\n",
    "import ipywidgets as widgets\n",
    "%matplotlib inline"
   ]
  },
  {
   "cell_type": "code",
   "execution_count": 30,
   "metadata": {},
   "outputs": [
    {
     "data": {
      "image/png": "[encoded data removed]",
      "text/plain": [
       "<matplotlib.figure.Figure at 0x7f34fa366110>"
      ]
     },
     "metadata": {},
     "output_type": "display_data"
    }
   ],
   "source": [
    "def eigwav_1D(n,L,x):\n",
    "    return np.sqrt(2/L)*np.sin(n*np.pi*x/L)\n",
    "\n",
    "def eigeng_1D(n,L,hbar = 1,m0 = 1):\n",
    "    return (n*hbar)**2/2.0/m0*(np.pi/L)**2\n",
    "\n",
    "def TDeigwav_1D(n,L,x,t,hbar = 1):\n",
    "    E = eigeng_1D(n,L)\n",
    "    return eigwav_1D(n,L,x)*np.exp(-1j*E*t/hbar)\n",
    "\n",
    "def norm_1D(psi,x):\n",
    "    return simps(psi*np.conjugate(psi),x)\n",
    "\n",
    "def superposition_1D(n,L,x,t):\n",
    "    psi = np.zeros(len(x))\n",
    "    for m in n:\n",
    "        psi = psi + TDeigwav_1D(m,L,x,t)\n",
    "    norm = norm_1D(psi,x)\n",
    "    return psi/np.sqrt(norm)\n",
    "        \n",
    "\n",
    "    \n",
    "def f(t):\n",
    "    \n",
    "#     plt.figure(2)\n",
    "    ax = plt.gca()\n",
    "    ax.cla()\n",
    "    \n",
    "    L = 1\n",
    "    x = np.linspace(0,L,200)\n",
    "    n  = np.array([1,3,4])\n",
    "    \n",
    "    psi = superposition_1D(n,L,x,t)\n",
    "    psi_mag = abs(psi)\n",
    "    \n",
    "    phase_angle = np.angle(psi)\n",
    "\n",
    "    points = np.array([x, psi_mag]).T.reshape(-1, 1, 2)\n",
    "    segments = np.concatenate([points[:], points[:]], axis=1)\n",
    "    segments[:,1,1] = 0\n",
    "    lc = LineCollection(segments, cmap=plt.get_cmap('viridis'), # viridis,plasma\n",
    "                        norm=plt.Normalize(-np.pi, np.pi))\n",
    "    lc.set_array((phase_angle))\n",
    "    lc.set_linewidth(2)\n",
    "\n",
    "\n",
    "    plt.gca().add_collection(lc)\n",
    "\n",
    "    plt.plot(x,psi_mag)\n",
    "    plt.xlim([0,L])\n",
    "    plt.ylim(-2.1,2.5)\n",
    "    plt.colorbar(CS3)\n",
    "    plt.show()\n",
    "    \n",
    "\n",
    "Z = [[0,0],[0,0]]\n",
    "levels = np.arange(-np.pi-0.01,np.pi+0.01,0.01)\n",
    "CS3 = plt.contourf(Z, levels, cmap=plt.get_cmap('viridis'));\n",
    "plt.clf()  \n",
    "interactive_plot = interactive(f, t=widgets.FloatSlider(min=0, max=0.3, step=0.005)) \n",
    "output = interactive_plot.children[-1]\n",
    "# output.layout.height = '100px'\n",
    "interactive_plot"
   ]
  },
  {
   "cell_type": "code",
   "execution_count": null,
   "metadata": {
    "collapsed": true
   },
   "outputs": [],
   "source": []
  }
 ],
 "metadata": {
  "anaconda-cloud": {},
  "kernelspec": {
   "display_name": "Python [conda root]",
   "language": "python",
   "name": "conda-root-py"
  },
  "language_info": {
   "codemirror_mode": {
    "name": "ipython",
    "version": 2
   },
   "file_extension": ".py",
   "mimetype": "text/x-python",
   "name": "python",
   "nbconvert_exporter": "python",
   "pygments_lexer": "ipython2",
   "version": "2.7.12"
  },
  "widgets": {
   "state": {
    "73eeec23b868429da7e626f86d859215": {
     "views": [
      {
       "cell_index": 2
      }
     ]
    }
   },
   "version": "1.2.0"
  }
 },
 "nbformat": 4,
 "nbformat_minor": 2
}
